{
 "cells": [
  {
   "cell_type": "code",
   "execution_count": 1,
   "metadata": {
    "collapsed": true
   },
   "outputs": [],
   "source": [
    "# import packages\n",
    "import tensorflow as tf\n",
    "import numpy as np"
   ]
  },
  {
   "cell_type": "code",
   "execution_count": 2,
   "metadata": {
    "collapsed": false
   },
   "outputs": [],
   "source": [
    "# Create placeholder for an input array with dtype float32 and shape None\n",
    "a = tf.placeholder(tf.float32, shape=[None],name = \"input_a\")"
   ]
  },
  {
   "cell_type": "code",
   "execution_count": 3,
   "metadata": {
    "collapsed": false
   },
   "outputs": [],
   "source": [
    "with tf.name_scope(\"input_placeholder\"):\n",
    "    a = a\n",
    "    \n",
    "with tf.name_scope(\"middle_section\"):\n",
    "    b = tf.reduce_prod(a, name = \"prod_b\")\n",
    "    c = tf.reduce_mean(a, name = \"mean_c\")\n",
    "    d = tf.reduce_sum(a, name = \"sum_d\")\n",
    "    e = tf.add(b,c, name = \"add_e\")\n",
    "    \n",
    "with tf.name_scope(\"final_node\"):\n",
    "    f = tf.multiply(e,d, name = \"output\")"
   ]
  },
  {
   "cell_type": "code",
   "execution_count": 12,
   "metadata": {
    "collapsed": false
   },
   "outputs": [
    {
     "data": {
      "text/plain": [
       "2.0155043e+17"
      ]
     },
     "execution_count": 12,
     "metadata": {},
     "output_type": "execute_result"
    }
   ],
   "source": [
    "# Feed placeholder with an array of A consisting of 100 normally distributed\n",
    "# random  numbers with m ean = 1 and std = 2\n",
    "\n",
    "# open a tensorflow session\n",
    "sess = tf.Session()\n",
    "\n",
    "# create a dict to pass into feed_dict\n",
    "random_list = np.random.normal(1.0,2.0,100)\n",
    "input_dict = {a: random_list}\n",
    "\n",
    "# fetch the value of 'a', feeding values of the 'input vector'\n",
    "sess.run(f, feed_dict=input_dict)"
   ]
  },
  {
   "cell_type": "code",
   "execution_count": 15,
   "metadata": {
    "collapsed": false
   },
   "outputs": [
    {
     "data": {
      "image/png": "[encoded data removed]",
      "text/plain": [
       "<matplotlib.figure.Figure at 0x126ff3f28>"
      ]
     },
     "metadata": {},
     "output_type": "display_data"
    }
   ],
   "source": [
    "import matplotlib.pyplot as plt\n",
    "\n",
    "plt.plot(random_list, linestyle=\"\",marker=\"o\")\n",
    "plt.xlabel('position in list')\n",
    "plt.ylabel('values')\n",
    "plt.show()"
   ]
  }
 ],
 "metadata": {
  "kernelspec": {
   "display_name": "Python 3",
   "language": "python",
   "name": "python3"
  },
  "language_info": {
   "codemirror_mode": {
    "name": "ipython",
    "version": 3
   },
   "file_extension": ".py",
   "mimetype": "text/x-python",
   "name": "python",
   "nbconvert_exporter": "python",
   "pygments_lexer": "ipython3",
   "version": "3.6.0"
  }
 },
 "nbformat": 4,
 "nbformat_minor": 2
}
